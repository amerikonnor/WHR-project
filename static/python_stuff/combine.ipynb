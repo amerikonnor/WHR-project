{
 "metadata": {
  "language_info": {
   "codemirror_mode": {
    "name": "ipython",
    "version": 3
   },
   "file_extension": ".py",
   "mimetype": "text/x-python",
   "name": "python",
   "nbconvert_exporter": "python",
   "pygments_lexer": "ipython3",
   "version": "3.8.3-final"
  },
  "orig_nbformat": 2,
  "kernelspec": {
   "name": "python3",
   "display_name": "Python 3.8.3 64-bit ('conma': virtualenv)",
   "metadata": {
    "interpreter": {
     "hash": "78c908cb1a9dd36d2ac072f33e7f862980c362a2c369a07a6eb11e3740dc70f2"
    }
   }
  }
 },
 "nbformat": 4,
 "nbformat_minor": 2,
 "cells": [
  {
   "cell_type": "code",
   "execution_count": 1,
   "metadata": {},
   "outputs": [],
   "source": [
    "import pandas as pd \n",
    "from statistics import mean\n",
    "from sqlalchemy import create_engine"
   ]
  },
  {
   "cell_type": "code",
   "execution_count": 2,
   "metadata": {},
   "outputs": [],
   "source": [
    "data2015 = 'cleaned/clean2015.csv'\n",
    "data2016 = 'cleaned/clean2016.csv'\n",
    "data2017 = 'cleaned/clean2017.csv'\n",
    "data2018 = 'cleaned/clean2018.csv'\n",
    "data2019 = 'cleaned/clean2019.csv'\n",
    "data2020 = 'cleaned/clean2020.csv'"
   ]
  },
  {
   "cell_type": "code",
   "execution_count": 3,
   "metadata": {},
   "outputs": [],
   "source": [
    "df2015 = pd.read_csv(data2015)\n",
    "df2016 = pd.read_csv(data2016)\n",
    "df2017 = pd.read_csv(data2017)\n",
    "df2018 = pd.read_csv(data2018)\n",
    "df2019 = pd.read_csv(data2019)\n",
    "df2020 = pd.read_csv(data2020)\n"
   ]
  },
  {
   "cell_type": "code",
   "execution_count": 4,
   "metadata": {},
   "outputs": [],
   "source": [
    "bigboy = df2015.merge(df2016, on='Country', how='left', suffixes=('_2015','_2016'))\n",
    "bigboy = bigboy.merge(df2017, on='Country', how = 'left')\n",
    "bigboy = bigboy.merge(df2018, on='Country', how='left', suffixes=('_2017','_2018'))\n",
    "bigboy = bigboy.merge(df2019, on='Country', how = 'left')\n",
    "bigboy = bigboy.merge(df2020, on='Country', how='left', suffixes=('_2019','_2020'))\n",
    "bigboy = bigboy.dropna()"
   ]
  },
  {
   "cell_type": "code",
   "execution_count": 22,
   "metadata": {},
   "outputs": [],
   "source": [
    "bigboy['6 Year Average'] = bigboy[['Happiness Score_2015','Happiness Score_2016','Happiness Score_2017','Happiness Score_2018','Happiness Score_2019','Happiness Score_2020']].mean(axis=1)"
   ]
  },
  {
   "cell_type": "code",
   "execution_count": 21,
   "metadata": {},
   "outputs": [
    {
     "output_type": "execute_result",
     "data": {
      "text/plain": [
       "7.5870000000000015"
      ]
     },
     "metadata": {},
     "execution_count": 21
    }
   ],
   "source": [
    "bigboy.loc[0]['Happiness Score_2015']"
   ]
  },
  {
   "cell_type": "code",
   "execution_count": 19,
   "metadata": {},
   "outputs": [
    {
     "output_type": "execute_result",
     "data": {
      "text/plain": [
       "7.519483294173055"
      ]
     },
     "metadata": {},
     "execution_count": 19
    }
   ],
   "source": [
    "mean([bigboy.loc[0]['Happiness Score_2015'],bigboy.loc[0]['Happiness Score_2016'],bigboy.loc[0]['Happiness Score_2017'],bigboy.loc[0]['Happiness Score_2018'],bigboy.loc[0]['Happiness Score_2019'],bigboy.loc[0]['Happiness Score_2020']])"
   ]
  },
  {
   "cell_type": "code",
   "execution_count": 23,
   "metadata": {},
   "outputs": [
    {
     "output_type": "execute_result",
     "data": {
      "text/plain": [
       "       Country  Happiness Score_2015  GDP per Capita_2015  Family_2015  \\\n",
       "0  Switzerland                 7.587              1.39651      1.34951   \n",
       "1      Iceland                 7.561              1.30232      1.40223   \n",
       "2      Denmark                 7.527              1.32548      1.36058   \n",
       "3       Norway                 7.522              1.45900      1.33095   \n",
       "4       Canada                 7.427              1.32629      1.32261   \n",
       "\n",
       "   Healthy Life Expectancy_2015  Freedom_2015  \\\n",
       "0                       0.94143       0.66557   \n",
       "1                       0.94784       0.62877   \n",
       "2                       0.87464       0.64938   \n",
       "3                       0.88521       0.66973   \n",
       "4                       0.90563       0.63297   \n",
       "\n",
       "   Perception of Government Corruption_2015  Generosity_2015  \\\n",
       "0                                   0.41978          0.29678   \n",
       "1                                   0.14145          0.43630   \n",
       "2                                   0.48357          0.34139   \n",
       "3                                   0.36503          0.34699   \n",
       "4                                   0.32957          0.45811   \n",
       "\n",
       "   Happiness Score_2016  GDP per Capita_2016  ...  \\\n",
       "0                 7.509              1.52733  ...   \n",
       "1                 7.501              1.42666  ...   \n",
       "2                 7.526              1.44178  ...   \n",
       "3                 7.498              1.57744  ...   \n",
       "4                 7.404              1.44015  ...   \n",
       "\n",
       "   Perception of Government Corruption_2019  Generosity_2019  \\\n",
       "0                                     0.343            0.263   \n",
       "1                                     0.118            0.354   \n",
       "2                                     0.410            0.252   \n",
       "3                                     0.341            0.271   \n",
       "4                                     0.308            0.285   \n",
       "\n",
       "   Happiness Score_2020  GDP per Capita_2020  Family_2020  \\\n",
       "0                7.5599             1.390774     1.472403   \n",
       "1                7.5045             1.326502     1.547567   \n",
       "2                7.6456             1.326949     1.503449   \n",
       "3                7.4880             1.424207     1.495173   \n",
       "4                7.2321             1.301648     1.435392   \n",
       "\n",
       "   Healthy Life Expectancy_2020  Freedom_2020  \\\n",
       "0                      1.040533      0.628954   \n",
       "1                      1.000843      0.661981   \n",
       "2                      0.979333      0.665040   \n",
       "3                      1.008072      0.670201   \n",
       "4                      1.022502      0.644028   \n",
       "\n",
       "   Perception of Government Corruption_2020  Generosity_2020  6 Year Average  \n",
       "0                                  0.407946         0.269056        7.519483  \n",
       "1                                  0.144541         0.362330        7.509917  \n",
       "2                                  0.495260         0.242793        7.562600  \n",
       "3                                  0.434101         0.287985        7.532167  \n",
       "4                                  0.351702         0.281529        7.330850  \n",
       "\n",
       "[5 rows x 44 columns]"
      ],
      "text/html": "<div>\n<style scoped>\n    .dataframe tbody tr th:only-of-type {\n        vertical-align: middle;\n    }\n\n    .dataframe tbody tr th {\n        vertical-align: top;\n    }\n\n    .dataframe thead th {\n        text-align: right;\n    }\n</style>\n<table border=\"1\" class=\"dataframe\">\n  <thead>\n    <tr style=\"text-align: right;\">\n      <th></th>\n      <th>Country</th>\n      <th>Happiness Score_2015</th>\n      <th>GDP per Capita_2015</th>\n      <th>Family_2015</th>\n      <th>Healthy Life Expectancy_2015</th>\n      <th>Freedom_2015</th>\n      <th>Perception of Government Corruption_2015</th>\n      <th>Generosity_2015</th>\n      <th>Happiness Score_2016</th>\n      <th>GDP per Capita_2016</th>\n      <th>...</th>\n      <th>Perception of Government Corruption_2019</th>\n      <th>Generosity_2019</th>\n      <th>Happiness Score_2020</th>\n      <th>GDP per Capita_2020</th>\n      <th>Family_2020</th>\n      <th>Healthy Life Expectancy_2020</th>\n      <th>Freedom_2020</th>\n      <th>Perception of Government Corruption_2020</th>\n      <th>Generosity_2020</th>\n      <th>6 Year Average</th>\n    </tr>\n  </thead>\n  <tbody>\n    <tr>\n      <th>0</th>\n      <td>Switzerland</td>\n      <td>7.587</td>\n      <td>1.39651</td>\n      <td>1.34951</td>\n      <td>0.94143</td>\n      <td>0.66557</td>\n      <td>0.41978</td>\n      <td>0.29678</td>\n      <td>7.509</td>\n      <td>1.52733</td>\n      <td>...</td>\n      <td>0.343</td>\n      <td>0.263</td>\n      <td>7.5599</td>\n      <td>1.390774</td>\n      <td>1.472403</td>\n      <td>1.040533</td>\n      <td>0.628954</td>\n      <td>0.407946</td>\n      <td>0.269056</td>\n      <td>7.519483</td>\n    </tr>\n    <tr>\n      <th>1</th>\n      <td>Iceland</td>\n      <td>7.561</td>\n      <td>1.30232</td>\n      <td>1.40223</td>\n      <td>0.94784</td>\n      <td>0.62877</td>\n      <td>0.14145</td>\n      <td>0.43630</td>\n      <td>7.501</td>\n      <td>1.42666</td>\n      <td>...</td>\n      <td>0.118</td>\n      <td>0.354</td>\n      <td>7.5045</td>\n      <td>1.326502</td>\n      <td>1.547567</td>\n      <td>1.000843</td>\n      <td>0.661981</td>\n      <td>0.144541</td>\n      <td>0.362330</td>\n      <td>7.509917</td>\n    </tr>\n    <tr>\n      <th>2</th>\n      <td>Denmark</td>\n      <td>7.527</td>\n      <td>1.32548</td>\n      <td>1.36058</td>\n      <td>0.87464</td>\n      <td>0.64938</td>\n      <td>0.48357</td>\n      <td>0.34139</td>\n      <td>7.526</td>\n      <td>1.44178</td>\n      <td>...</td>\n      <td>0.410</td>\n      <td>0.252</td>\n      <td>7.6456</td>\n      <td>1.326949</td>\n      <td>1.503449</td>\n      <td>0.979333</td>\n      <td>0.665040</td>\n      <td>0.495260</td>\n      <td>0.242793</td>\n      <td>7.562600</td>\n    </tr>\n    <tr>\n      <th>3</th>\n      <td>Norway</td>\n      <td>7.522</td>\n      <td>1.45900</td>\n      <td>1.33095</td>\n      <td>0.88521</td>\n      <td>0.66973</td>\n      <td>0.36503</td>\n      <td>0.34699</td>\n      <td>7.498</td>\n      <td>1.57744</td>\n      <td>...</td>\n      <td>0.341</td>\n      <td>0.271</td>\n      <td>7.4880</td>\n      <td>1.424207</td>\n      <td>1.495173</td>\n      <td>1.008072</td>\n      <td>0.670201</td>\n      <td>0.434101</td>\n      <td>0.287985</td>\n      <td>7.532167</td>\n    </tr>\n    <tr>\n      <th>4</th>\n      <td>Canada</td>\n      <td>7.427</td>\n      <td>1.32629</td>\n      <td>1.32261</td>\n      <td>0.90563</td>\n      <td>0.63297</td>\n      <td>0.32957</td>\n      <td>0.45811</td>\n      <td>7.404</td>\n      <td>1.44015</td>\n      <td>...</td>\n      <td>0.308</td>\n      <td>0.285</td>\n      <td>7.2321</td>\n      <td>1.301648</td>\n      <td>1.435392</td>\n      <td>1.022502</td>\n      <td>0.644028</td>\n      <td>0.351702</td>\n      <td>0.281529</td>\n      <td>7.330850</td>\n    </tr>\n  </tbody>\n</table>\n<p>5 rows × 44 columns</p>\n</div>"
     },
     "metadata": {},
     "execution_count": 23
    }
   ],
   "source": [
    "bigboy.head()"
   ]
  },
  {
   "cell_type": "code",
   "execution_count": 25,
   "metadata": {},
   "outputs": [],
   "source": [
    "bigboy.to_csv('cleaned/combined_with_avgHappy.csv',index=False)"
   ]
  },
  {
   "cell_type": "code",
   "execution_count": null,
   "metadata": {},
   "outputs": [],
   "source": []
  }
 ]
}