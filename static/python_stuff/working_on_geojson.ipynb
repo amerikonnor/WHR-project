{
 "metadata": {
  "language_info": {
   "codemirror_mode": {
    "name": "ipython",
    "version": 3
   },
   "file_extension": ".py",
   "mimetype": "text/x-python",
   "name": "python",
   "nbconvert_exporter": "python",
   "pygments_lexer": "ipython3",
   "version": "3.8.3-final"
  },
  "orig_nbformat": 2,
  "kernelspec": {
   "name": "python3",
   "display_name": "Python 3.8.3 64-bit (conda)",
   "metadata": {
    "interpreter": {
     "hash": "78c908cb1a9dd36d2ac072f33e7f862980c362a2c369a07a6eb11e3740dc70f2"
    }
   }
  }
 },
 "nbformat": 4,
 "nbformat_minor": 2,
 "cells": [
  {
   "source": [
    "Using the Pygeoj to edit the GeoJson file. Pulls in data from the WHR csv files using pandas.\n",
    "Manually changing the year and running each time, in order to inspect the country names.\n",
    "CSV files have more colloquial country names (e.g. United States), while the GeoJson is official names (e.g. United States of America).\n",
    "I have 2015, 2016, 2017, 2018, 2019, and 2020 done!"
   ],
   "cell_type": "markdown",
   "metadata": {}
  },
  {
   "cell_type": "code",
   "execution_count": 1,
   "metadata": {},
   "outputs": [],
   "source": [
    "import pygeoj\n",
    "import pandas as pd \n",
    "\n",
    "file = 'geojson/countries.geojson'\n",
    "data = 'cleaned/clean2020.csv'"
   ]
  },
  {
   "cell_type": "code",
   "execution_count": 2,
   "metadata": {},
   "outputs": [],
   "source": [
    "countries = pygeoj.load(file)\n",
    "df = pd.read_csv(data)"
   ]
  },
  {
   "cell_type": "code",
   "execution_count": 3,
   "metadata": {},
   "outputs": [
    {
     "output_type": "execute_result",
     "data": {
      "text/plain": [
       "             Happiness Score  GDP per Capita    Family  \\\n",
       "Country                                                  \n",
       "Finland               7.8087        1.285190  1.499526   \n",
       "Denmark               7.6456        1.326949  1.503449   \n",
       "Switzerland           7.5599        1.390774  1.472403   \n",
       "Iceland               7.5045        1.326502  1.547567   \n",
       "Norway                7.4880        1.424207  1.495173   \n",
       "\n",
       "             Healthy Life Expectancy   Freedom  \\\n",
       "Country                                          \n",
       "Finland                     0.961271  0.662317   \n",
       "Denmark                     0.979333  0.665040   \n",
       "Switzerland                 1.040533  0.628954   \n",
       "Iceland                     1.000843  0.661981   \n",
       "Norway                      1.008072  0.670201   \n",
       "\n",
       "             Perception of Government Corruption  Generosity  \n",
       "Country                                                       \n",
       "Finland                                 0.477857    0.159670  \n",
       "Denmark                                 0.495260    0.242793  \n",
       "Switzerland                             0.407946    0.269056  \n",
       "Iceland                                 0.144541    0.362330  \n",
       "Norway                                  0.434101    0.287985  "
      ],
      "text/html": "<div>\n<style scoped>\n    .dataframe tbody tr th:only-of-type {\n        vertical-align: middle;\n    }\n\n    .dataframe tbody tr th {\n        vertical-align: top;\n    }\n\n    .dataframe thead th {\n        text-align: right;\n    }\n</style>\n<table border=\"1\" class=\"dataframe\">\n  <thead>\n    <tr style=\"text-align: right;\">\n      <th></th>\n      <th>Happiness Score</th>\n      <th>GDP per Capita</th>\n      <th>Family</th>\n      <th>Healthy Life Expectancy</th>\n      <th>Freedom</th>\n      <th>Perception of Government Corruption</th>\n      <th>Generosity</th>\n    </tr>\n    <tr>\n      <th>Country</th>\n      <th></th>\n      <th></th>\n      <th></th>\n      <th></th>\n      <th></th>\n      <th></th>\n      <th></th>\n    </tr>\n  </thead>\n  <tbody>\n    <tr>\n      <th>Finland</th>\n      <td>7.8087</td>\n      <td>1.285190</td>\n      <td>1.499526</td>\n      <td>0.961271</td>\n      <td>0.662317</td>\n      <td>0.477857</td>\n      <td>0.159670</td>\n    </tr>\n    <tr>\n      <th>Denmark</th>\n      <td>7.6456</td>\n      <td>1.326949</td>\n      <td>1.503449</td>\n      <td>0.979333</td>\n      <td>0.665040</td>\n      <td>0.495260</td>\n      <td>0.242793</td>\n    </tr>\n    <tr>\n      <th>Switzerland</th>\n      <td>7.5599</td>\n      <td>1.390774</td>\n      <td>1.472403</td>\n      <td>1.040533</td>\n      <td>0.628954</td>\n      <td>0.407946</td>\n      <td>0.269056</td>\n    </tr>\n    <tr>\n      <th>Iceland</th>\n      <td>7.5045</td>\n      <td>1.326502</td>\n      <td>1.547567</td>\n      <td>1.000843</td>\n      <td>0.661981</td>\n      <td>0.144541</td>\n      <td>0.362330</td>\n    </tr>\n    <tr>\n      <th>Norway</th>\n      <td>7.4880</td>\n      <td>1.424207</td>\n      <td>1.495173</td>\n      <td>1.008072</td>\n      <td>0.670201</td>\n      <td>0.434101</td>\n      <td>0.287985</td>\n    </tr>\n  </tbody>\n</table>\n</div>"
     },
     "metadata": {},
     "execution_count": 3
    }
   ],
   "source": [
    "df = df.set_index('Country')\n",
    "df.head()\n"
   ]
  },
  {
   "cell_type": "code",
   "execution_count": 4,
   "metadata": {},
   "outputs": [
    {
     "output_type": "execute_result",
     "data": {
      "text/plain": [
       "'Aruba'"
      ]
     },
     "metadata": {},
     "execution_count": 4
    }
   ],
   "source": [
    "properties = countries[0].properties\n",
    "name = properties['ADMIN']\n",
    "name"
   ]
  },
  {
   "cell_type": "code",
   "execution_count": 5,
   "metadata": {
    "tags": []
   },
   "outputs": [
    {
     "output_type": "stream",
     "name": "stdout",
     "text": [
      "Aruba doesn't have a happiness score\nAngola doesn't have a happiness score\nAnguilla doesn't have a happiness score\nAland doesn't have a happiness score\nAndorra doesn't have a happiness score\nAmerican Samoa doesn't have a happiness score\nAntarctica doesn't have a happiness score\nAshmore and Cartier Islands doesn't have a happiness score\nFrench Southern and Antarctic Lands doesn't have a happiness score\nAntigua and Barbuda doesn't have a happiness score\nThe Bahamas doesn't have a happiness score\nBajo Nuevo Bank (Petrel Is.) doesn't have a happiness score\nSaint Barthelemy doesn't have a happiness score\nBelize doesn't have a happiness score\nBermuda doesn't have a happiness score\nBarbados doesn't have a happiness score\nBrunei doesn't have a happiness score\nBhutan doesn't have a happiness score\nClipperton Island doesn't have a happiness score\nCyprus No Mans Area doesn't have a happiness score\nCook Islands doesn't have a happiness score\nCape Verde doesn't have a happiness score\nCoral Sea Islands doesn't have a happiness score\nCuba doesn't have a happiness score\nCuraÃ§ao doesn't have a happiness score\nCayman Islands doesn't have a happiness score\nNorthern Cyprus doesn't have a happiness score\nDjibouti doesn't have a happiness score\nDominica doesn't have a happiness score\nEritrea doesn't have a happiness score\nDhekelia Sovereign Base Area doesn't have a happiness score\nFiji doesn't have a happiness score\nFalkland Islands doesn't have a happiness score\nFaroe Islands doesn't have a happiness score\nFederated States of Micronesia doesn't have a happiness score\nGuernsey doesn't have a happiness score\nGibraltar doesn't have a happiness score\nGuinea Bissau doesn't have a happiness score\nEquatorial Guinea doesn't have a happiness score\nGrenada doesn't have a happiness score\nGreenland doesn't have a happiness score\nGuam doesn't have a happiness score\nGuyana doesn't have a happiness score\nHeard Island and McDonald Islands doesn't have a happiness score\nIsle of Man doesn't have a happiness score\nIndian Ocean Territories doesn't have a happiness score\nBritish Indian Ocean Territory doesn't have a happiness score\nJersey doesn't have a happiness score\nBaykonur Cosmodrome doesn't have a happiness score\nSiachen Glacier doesn't have a happiness score\nKiribati doesn't have a happiness score\nSaint Kitts and Nevis doesn't have a happiness score\nSaint Lucia doesn't have a happiness score\nLiechtenstein doesn't have a happiness score\nMacao S.A.R doesn't have a happiness score\nSaint Martin doesn't have a happiness score\nMonaco doesn't have a happiness score\nMarshall Islands doesn't have a happiness score\nNorthern Mariana Islands doesn't have a happiness score\nMontserrat doesn't have a happiness score\nNew Caledonia doesn't have a happiness score\nNorfolk Island doesn't have a happiness score\nNiue doesn't have a happiness score\nNauru doesn't have a happiness score\nOman doesn't have a happiness score\nPitcairn Islands doesn't have a happiness score\nSpratly Islands doesn't have a happiness score\nPalau doesn't have a happiness score\nPapua New Guinea doesn't have a happiness score\nPuerto Rico doesn't have a happiness score\nNorth Korea doesn't have a happiness score\nFrench Polynesia doesn't have a happiness score\nQatar doesn't have a happiness score\nWestern Sahara doesn't have a happiness score\nScarborough Reef doesn't have a happiness score\nSudan doesn't have a happiness score\nSerranilla Bank doesn't have a happiness score\nSouth Georgia and South Sandwich Islands doesn't have a happiness score\nSaint Helena doesn't have a happiness score\nSolomon Islands doesn't have a happiness score\nSan Marino doesn't have a happiness score\nSomaliland doesn't have a happiness score\nSomalia doesn't have a happiness score\nSaint Pierre and Miquelon doesn't have a happiness score\nSao Tome and Principe doesn't have a happiness score\nSuriname doesn't have a happiness score\nSint Maarten doesn't have a happiness score\nSeychelles doesn't have a happiness score\nSyria doesn't have a happiness score\nTurks and Caicos Islands doesn't have a happiness score\nEast Timor doesn't have a happiness score\nTonga doesn't have a happiness score\nTuvalu doesn't have a happiness score\nTaiwan doesn't have a happiness score\nUnited States Minor Outlying Islands doesn't have a happiness score\nUS Naval Base Guantanamo Bay doesn't have a happiness score\nVatican doesn't have a happiness score\nSaint Vincent and the Grenadines doesn't have a happiness score\nBritish Virgin Islands doesn't have a happiness score\nUnited States Virgin Islands doesn't have a happiness score\nVanuatu doesn't have a happiness score\nWallis and Futuna doesn't have a happiness score\nAkrotiri Sovereign Base Area doesn't have a happiness score\nSamoa doesn't have a happiness score\n"
     ]
    }
   ],
   "source": [
    "for country in countries:\n",
    "    properties = country.properties\n",
    "    name = properties['ADMIN']\n",
    "    try: \n",
    "        df.loc[name]\n",
    "    except:\n",
    "        print(f\"{name} doesn't have a happiness score\")\n",
    "    else:\n",
    "        properties['Happiness Score'] = df.loc[name][0]\n",
    "        properties['GDP per Capita'] = df.loc[name][1]\n",
    "        properties['Family'] = df.loc[name][2]\n",
    "        properties['Healthy Life Expectancy'] = df.loc[name][3]\n",
    "        properties['Freedom'] = df.loc[name][4]\n",
    "        properties['Perception of Government Corruption'] = df.loc[name][5]\n",
    "        properties['Generosity'] = df.loc[name][6]\n",
    "        country.properties = dict(properties)"
   ]
  },
  {
   "cell_type": "code",
   "execution_count": 6,
   "metadata": {},
   "outputs": [],
   "source": [
    "countries.save('geojson/2020countries.geojson')"
   ]
  },
  {
   "cell_type": "code",
   "execution_count": null,
   "metadata": {},
   "outputs": [],
   "source": []
  }
 ]
}